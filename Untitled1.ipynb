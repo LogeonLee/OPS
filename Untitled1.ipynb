{
 "cells": [
  {
   "cell_type": "code",
   "execution_count": 26,
   "id": "a744e777-bbcc-473f-9d20-301fd5c8e121",
   "metadata": {},
   "outputs": [
    {
     "name": "stdout",
     "output_type": "stream",
     "text": [
      "[1] 저장: 240.02px, 이동: 0cm\n"
     ]
    },
    {
     "name": "stdin",
     "output_type": "stream",
     "text": [
      "이 지점까지 누적 이동 거리(cm)를 입력하세요 (앞 + / 뒤 -):  2\n"
     ]
    },
    {
     "name": "stdout",
     "output_type": "stream",
     "text": [
      "[2] 저장: 247.13px, 이동: 2.0cm\n"
     ]
    },
    {
     "name": "stdin",
     "output_type": "stream",
     "text": [
      "이 지점까지 누적 이동 거리(cm)를 입력하세요 (앞 + / 뒤 -):  5\n"
     ]
    },
    {
     "name": "stdout",
     "output_type": "stream",
     "text": [
      "[3] 저장: 256.03px, 이동: 5.0cm\n",
      "\n",
      "📏 추정된 초기 거리 (X): -74.73 cm\n"
     ]
    }
   ],
   "source": [
    "import cv2\n",
    "import mediapipe as mp\n",
    "import math\n",
    "\n",
    "# Mediapipe 초기화\n",
    "mp_pose = mp.solutions.pose\n",
    "pose = mp_pose.Pose()\n",
    "mp_drawing = mp.solutions.drawing_utils\n",
    "\n",
    "shoulder_distances = []\n",
    "movements_cm = []\n",
    "last_shoulder_distance = None\n",
    "\n",
    "# 버튼 위치 (x1, y1, x2, y2)\n",
    "button_position = (20, 60, 200, 110)\n",
    "\n",
    "# 거리 계산\n",
    "def calculate_distance(p1, p2):\n",
    "    return math.sqrt((p1[0] - p2[0]) ** 2 + (p1[1] - p2[1]) ** 2)\n",
    "\n",
    "# 초기 거리 추정 함수 (3점)\n",
    "def estimate_initial_distance_3points(p, d):\n",
    "    if len(p) != 3 or len(d) != 3:\n",
    "        raise ValueError(\"3개의 픽셀 및 거리 정보가 필요합니다.\")\n",
    "    try:\n",
    "        x1 = (p[1] * d[1]) / (p[0] - p[1])\n",
    "        x2 = (p[2] * d[2]) / (p[0] - p[2])\n",
    "        return (x1 + x2) / 2\n",
    "    except ZeroDivisionError:\n",
    "        return float('inf')\n",
    "\n",
    "# 마우스 콜백\n",
    "def mouse_callback(event, x, y, flags, param):\n",
    "    global shoulder_distances, movements_cm, last_shoulder_distance\n",
    "\n",
    "    x1, y1, x2, y2 = button_position\n",
    "    if event == cv2.EVENT_LBUTTONDOWN and x1 <= x <= x2 and y1 <= y <= y2:\n",
    "        if last_shoulder_distance is not None:\n",
    "            shoulder_distances.append(last_shoulder_distance)\n",
    "            if len(shoulder_distances) == 1:\n",
    "                move = 0\n",
    "            else:\n",
    "                move = float(input(\"이 지점까지 누적 이동 거리(cm)를 입력하세요 (앞 + / 뒤 -): \"))\n",
    "            movements_cm.append(move)\n",
    "            print(f\"[{len(shoulder_distances)}] 저장: {last_shoulder_distance:.2f}px, 이동: {move}cm\")\n",
    "\n",
    "# 비디오 캡처 및 윈도우 설정\n",
    "cap = cv2.VideoCapture(0)\n",
    "cv2.namedWindow(\"Calibrate with Button\")\n",
    "cv2.setMouseCallback(\"Calibrate with Button\", mouse_callback)\n",
    "\n",
    "while cap.isOpened() and len(shoulder_distances) < 3:\n",
    "    ret, frame = cap.read()\n",
    "    if not ret:\n",
    "        break\n",
    "\n",
    "    frame_rgb = cv2.cvtColor(frame, cv2.COLOR_BGR2RGB)\n",
    "    results = pose.process(frame_rgb)\n",
    "\n",
    "    if results.pose_landmarks:\n",
    "        landmarks = results.pose_landmarks.landmark\n",
    "        h, w, _ = frame.shape\n",
    "\n",
    "        l_sh = landmarks[mp_pose.PoseLandmark.LEFT_SHOULDER]\n",
    "        r_sh = landmarks[mp_pose.PoseLandmark.RIGHT_SHOULDER]\n",
    "        p1 = (int(l_sh.x * w), int(l_sh.y * h))\n",
    "        p2 = (int(r_sh.x * w), int(r_sh.y * h))\n",
    "\n",
    "        last_shoulder_distance = calculate_distance(p1, p2)\n",
    "\n",
    "        cv2.putText(frame, f\"Shoulder: {last_shoulder_distance:.2f}px\",\n",
    "                    (10, 30), cv2.FONT_HERSHEY_SIMPLEX, 1, (255, 255, 0), 2)\n",
    "        mp_drawing.draw_landmarks(frame, results.pose_landmarks, mp_pose.POSE_CONNECTIONS)\n",
    "\n",
    "    # 버튼 그리기\n",
    "    x1, y1, x2, y2 = button_position\n",
    "    cv2.rectangle(frame, (x1, y1), (x2, y2), (0, 128, 255), -1)\n",
    "    cv2.putText(frame, \"Save Point\", (x1 + 10, y1 + 35),\n",
    "                cv2.FONT_HERSHEY_SIMPLEX, 0.8, (0, 0, 0), 2)\n",
    "\n",
    "    cv2.imshow(\"Calibrate with Button\", frame)\n",
    "    if cv2.waitKey(1) & 0xFF == ord('q'):\n",
    "        break\n",
    "\n",
    "cap.release()\n",
    "cv2.destroyAllWindows()\n",
    "\n",
    "# 결과 출력\n",
    "if len(shoulder_distances) == 3:\n",
    "    initial_distance = estimate_initial_distance_3points(shoulder_distances, movements_cm)\n",
    "    print(f\"\\n📏 추정된 초기 거리 (X): {initial_distance:.2f} cm\")\n",
    "else:\n",
    "    print(\"❌ 캘리브레이션 데이터 부족 (3개 필요)\")\n"
   ]
  },
  {
   "cell_type": "code",
   "execution_count": null,
   "id": "1ef5e21e-64e3-487d-98ae-7e6f3cc55e84",
   "metadata": {},
   "outputs": [],
   "source": []
  }
 ],
 "metadata": {
  "kernelspec": {
   "display_name": "Python [conda env:base] *",
   "language": "python",
   "name": "conda-base-py"
  },
  "language_info": {
   "codemirror_mode": {
    "name": "ipython",
    "version": 3
   },
   "file_extension": ".py",
   "mimetype": "text/x-python",
   "name": "python",
   "nbconvert_exporter": "python",
   "pygments_lexer": "ipython3",
   "version": "3.12.7"
  }
 },
 "nbformat": 4,
 "nbformat_minor": 5
}
