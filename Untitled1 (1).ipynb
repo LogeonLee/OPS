{
 "cells": [
  {
   "cell_type": "code",
   "execution_count": 71,
   "id": "8884f104-fcdb-4a9b-a1d7-b26270957bbf",
   "metadata": {},
   "outputs": [
    {
     "name": "stdout",
     "output_type": "stream",
     "text": [
      "Requirement already satisfied: win10toast in c:\\users\\seoyo\\anaconda3\\lib\\site-packages (0.9)\n",
      "Requirement already satisfied: pypiwin32 in c:\\users\\seoyo\\anaconda3\\lib\\site-packages (from win10toast) (223)\n",
      "Requirement already satisfied: setuptools in c:\\users\\seoyo\\anaconda3\\lib\\site-packages (from win10toast) (75.1.0)\n",
      "Requirement already satisfied: pywin32>=223 in c:\\users\\seoyo\\anaconda3\\lib\\site-packages (from pypiwin32->win10toast) (305.1)\n",
      "Note: you may need to restart the kernel to use updated packages.\n"
     ]
    }
   ],
   "source": [
    "pip install win10toast"
   ]
  },
  {
   "cell_type": "code",
   "execution_count": 3,
   "id": "6e07af69-ea8a-4165-8346-8d7619f2bbce",
   "metadata": {},
   "outputs": [],
   "source": [
    "import serial\n",
    "import time\n",
    "import math"
   ]
  },
  {
   "cell_type": "code",
   "execution_count": 77,
   "id": "a744e777-bbcc-473f-9d20-301fd5c8e121",
   "metadata": {},
   "outputs": [
    {
     "name": "stderr",
     "output_type": "stream",
     "text": [
      "WNDPROC return value cannot be converted to LRESULT\n"
     ]
    },
    {
     "ename": "TypeError",
     "evalue": "WPARAM is simple, so must be an int object (got NoneType)",
     "output_type": "error",
     "traceback": [
      "\u001b[1;31m---------------------------------------------------------------------------\u001b[0m",
      "\u001b[1;31mTypeError\u001b[0m                                 Traceback (most recent call last)",
      "\u001b[1;31mTypeError\u001b[0m: WPARAM is simple, so must be an int object (got NoneType)"
     ]
    },
    {
     "name": "stderr",
     "output_type": "stream",
     "text": [
      "WNDPROC return value cannot be converted to LRESULT\n"
     ]
    },
    {
     "ename": "TypeError",
     "evalue": "WPARAM is simple, so must be an int object (got NoneType)",
     "output_type": "error",
     "traceback": [
      "\u001b[1;31m---------------------------------------------------------------------------\u001b[0m",
      "\u001b[1;31mTypeError\u001b[0m                                 Traceback (most recent call last)",
      "\u001b[1;31mTypeError\u001b[0m: WPARAM is simple, so must be an int object (got NoneType)"
     ]
    },
    {
     "name": "stderr",
     "output_type": "stream",
     "text": [
      "WNDPROC return value cannot be converted to LRESULT\n"
     ]
    },
    {
     "ename": "TypeError",
     "evalue": "WPARAM is simple, so must be an int object (got NoneType)",
     "output_type": "error",
     "traceback": [
      "\u001b[1;31m---------------------------------------------------------------------------\u001b[0m",
      "\u001b[1;31mTypeError\u001b[0m                                 Traceback (most recent call last)",
      "\u001b[1;31mTypeError\u001b[0m: WPARAM is simple, so must be an int object (got NoneType)"
     ]
    },
    {
     "name": "stderr",
     "output_type": "stream",
     "text": [
      "WNDPROC return value cannot be converted to LRESULT\n"
     ]
    },
    {
     "ename": "TypeError",
     "evalue": "WPARAM is simple, so must be an int object (got NoneType)",
     "output_type": "error",
     "traceback": [
      "\u001b[1;31m---------------------------------------------------------------------------\u001b[0m",
      "\u001b[1;31mTypeError\u001b[0m                                 Traceback (most recent call last)",
      "\u001b[1;31mTypeError\u001b[0m: WPARAM is simple, so must be an int object (got NoneType)"
     ]
    },
    {
     "name": "stderr",
     "output_type": "stream",
     "text": [
      "WNDPROC return value cannot be converted to LRESULT\n"
     ]
    },
    {
     "ename": "TypeError",
     "evalue": "WPARAM is simple, so must be an int object (got NoneType)",
     "output_type": "error",
     "traceback": [
      "\u001b[1;31m---------------------------------------------------------------------------\u001b[0m",
      "\u001b[1;31mTypeError\u001b[0m                                 Traceback (most recent call last)",
      "\u001b[1;31mTypeError\u001b[0m: WPARAM is simple, so must be an int object (got NoneType)"
     ]
    },
    {
     "name": "stderr",
     "output_type": "stream",
     "text": [
      "WNDPROC return value cannot be converted to LRESULT\n"
     ]
    },
    {
     "ename": "TypeError",
     "evalue": "WPARAM is simple, so must be an int object (got NoneType)",
     "output_type": "error",
     "traceback": [
      "\u001b[1;31m---------------------------------------------------------------------------\u001b[0m",
      "\u001b[1;31mTypeError\u001b[0m                                 Traceback (most recent call last)",
      "\u001b[1;31mTypeError\u001b[0m: WPARAM is simple, so must be an int object (got NoneType)"
     ]
    },
    {
     "name": "stderr",
     "output_type": "stream",
     "text": [
      "WNDPROC return value cannot be converted to LRESULT\n"
     ]
    },
    {
     "ename": "TypeError",
     "evalue": "WPARAM is simple, so must be an int object (got NoneType)",
     "output_type": "error",
     "traceback": [
      "\u001b[1;31m---------------------------------------------------------------------------\u001b[0m",
      "\u001b[1;31mTypeError\u001b[0m                                 Traceback (most recent call last)",
      "\u001b[1;31mTypeError\u001b[0m: WPARAM is simple, so must be an int object (got NoneType)"
     ]
    },
    {
     "name": "stderr",
     "output_type": "stream",
     "text": [
      "WNDPROC return value cannot be converted to LRESULT\n"
     ]
    },
    {
     "ename": "TypeError",
     "evalue": "WPARAM is simple, so must be an int object (got NoneType)",
     "output_type": "error",
     "traceback": [
      "\u001b[1;31m---------------------------------------------------------------------------\u001b[0m",
      "\u001b[1;31mTypeError\u001b[0m                                 Traceback (most recent call last)",
      "\u001b[1;31mTypeError\u001b[0m: WPARAM is simple, so must be an int object (got NoneType)"
     ]
    },
    {
     "name": "stderr",
     "output_type": "stream",
     "text": [
      "WNDPROC return value cannot be converted to LRESULT\n"
     ]
    },
    {
     "ename": "TypeError",
     "evalue": "WPARAM is simple, so must be an int object (got NoneType)",
     "output_type": "error",
     "traceback": [
      "\u001b[1;31m---------------------------------------------------------------------------\u001b[0m",
      "\u001b[1;31mTypeError\u001b[0m                                 Traceback (most recent call last)",
      "\u001b[1;31mTypeError\u001b[0m: WPARAM is simple, so must be an int object (got NoneType)"
     ]
    },
    {
     "name": "stderr",
     "output_type": "stream",
     "text": [
      "WNDPROC return value cannot be converted to LRESULT\n"
     ]
    },
    {
     "ename": "TypeError",
     "evalue": "WPARAM is simple, so must be an int object (got NoneType)",
     "output_type": "error",
     "traceback": [
      "\u001b[1;31m---------------------------------------------------------------------------\u001b[0m",
      "\u001b[1;31mTypeError\u001b[0m                                 Traceback (most recent call last)",
      "\u001b[1;31mTypeError\u001b[0m: WPARAM is simple, so must be an int object (got NoneType)"
     ]
    },
    {
     "name": "stderr",
     "output_type": "stream",
     "text": [
      "WNDPROC return value cannot be converted to LRESULT\n"
     ]
    },
    {
     "ename": "TypeError",
     "evalue": "WPARAM is simple, so must be an int object (got NoneType)",
     "output_type": "error",
     "traceback": [
      "\u001b[1;31m---------------------------------------------------------------------------\u001b[0m",
      "\u001b[1;31mTypeError\u001b[0m                                 Traceback (most recent call last)",
      "\u001b[1;31mTypeError\u001b[0m: WPARAM is simple, so must be an int object (got NoneType)"
     ]
    },
    {
     "name": "stderr",
     "output_type": "stream",
     "text": [
      "WNDPROC return value cannot be converted to LRESULT\n"
     ]
    },
    {
     "ename": "TypeError",
     "evalue": "WPARAM is simple, so must be an int object (got NoneType)",
     "output_type": "error",
     "traceback": [
      "\u001b[1;31m---------------------------------------------------------------------------\u001b[0m",
      "\u001b[1;31mTypeError\u001b[0m                                 Traceback (most recent call last)",
      "\u001b[1;31mTypeError\u001b[0m: WPARAM is simple, so must be an int object (got NoneType)"
     ]
    },
    {
     "name": "stderr",
     "output_type": "stream",
     "text": [
      "WNDPROC return value cannot be converted to LRESULT\n"
     ]
    },
    {
     "ename": "TypeError",
     "evalue": "WPARAM is simple, so must be an int object (got NoneType)",
     "output_type": "error",
     "traceback": [
      "\u001b[1;31m---------------------------------------------------------------------------\u001b[0m",
      "\u001b[1;31mTypeError\u001b[0m                                 Traceback (most recent call last)",
      "\u001b[1;31mTypeError\u001b[0m: WPARAM is simple, so must be an int object (got NoneType)"
     ]
    },
    {
     "name": "stderr",
     "output_type": "stream",
     "text": [
      "WNDPROC return value cannot be converted to LRESULT\n"
     ]
    },
    {
     "ename": "TypeError",
     "evalue": "WPARAM is simple, so must be an int object (got NoneType)",
     "output_type": "error",
     "traceback": [
      "\u001b[1;31m---------------------------------------------------------------------------\u001b[0m",
      "\u001b[1;31mTypeError\u001b[0m                                 Traceback (most recent call last)",
      "\u001b[1;31mTypeError\u001b[0m: WPARAM is simple, so must be an int object (got NoneType)"
     ]
    }
   ],
   "source": [
    "import cv2\n",
    "import mediapipe as mp\n",
    "import numpy as np\n",
    "import math\n",
    "from win10toast import ToastNotifier\n",
    "\n",
    "# Mediapipe 초기화\n",
    "mp_pose = mp.solutions.pose\n",
    "pose = mp_pose.Pose()\n",
    "mp_drawing = mp.solutions.drawing_utils\n",
    "\n",
    "# 알림 상태 추적\n",
    "notifier = ToastNotifier()\n",
    "popup_displayed = False\n",
    "face_popup_displayed = False\n",
    "\n",
    "# 캘리브레이션 저장 변수\n",
    "shoulder_distances = []\n",
    "movements_cm = []\n",
    "last_shoulder_distance = None\n",
    "initial_distance_cm = None\n",
    "\n",
    "# 버튼 위치 (x1, y1, x2, y2)\n",
    "button_position = (20, 60, 200, 110)\n",
    "\n",
    "# 거리 계산 함수\n",
    "def calculate_distance(p1, p2):\n",
    "    return math.sqrt((p1[0] - p2[0]) ** 2 + (p1[1] - p2[1]) ** 2)\n",
    "\n",
    "# 캘리브레이션 계산 함수\n",
    "def estimate_initial_distance_3points(p, d):\n",
    "    if len(p) != 3 or len(d) != 3:\n",
    "        raise ValueError(\"3개의 픽셀 및 거리 정보가 필요합니다.\")\n",
    "    try:\n",
    "        x1 = (p[1] * d[1]) / (p[0] - p[1])\n",
    "        x2 = (p[2] * d[2]) / (p[0] - p[2])\n",
    "        return (x1 + x2) / 2\n",
    "    except ZeroDivisionError:\n",
    "        return float('inf')\n",
    "\n",
    "# 회전 각도 추정 함수 (어깨)\n",
    "def estimate_shoulder_rotation_angle(landmarks):\n",
    "    l_sh = landmarks[mp_pose.PoseLandmark.LEFT_SHOULDER]\n",
    "    r_sh = landmarks[mp_pose.PoseLandmark.RIGHT_SHOULDER]\n",
    "    dx = l_sh.x - r_sh.x\n",
    "    dz = l_sh.z - r_sh.z\n",
    "    angle_rad = np.arctan2(dz, dx)\n",
    "    return np.degrees(angle_rad)\n",
    "\n",
    "# 회전 각도 추정 함수 (얼굴)\n",
    "def estimate_face_rotation_angle(landmarks):\n",
    "    l_eye = landmarks[mp_pose.PoseLandmark.LEFT_EYE]\n",
    "    r_eye = landmarks[mp_pose.PoseLandmark.RIGHT_EYE]\n",
    "    dx = l_eye.x - r_eye.x\n",
    "    dz = l_eye.z - r_eye.z\n",
    "    angle_rad = np.arctan2(dz, dx)\n",
    "    return np.degrees(angle_rad)\n",
    "\n",
    "# 마우스 콜백 함수\n",
    "def mouse_callback(event, x, y, flags, param):\n",
    "    global shoulder_distances, movements_cm, last_shoulder_distance\n",
    "\n",
    "    x1, y1, x2, y2 = button_position\n",
    "    if event == cv2.EVENT_LBUTTONDOWN and x1 <= x <= x2 and y1 <= y <= y2:\n",
    "        if last_shoulder_distance is not None:\n",
    "            shoulder_distances.append(last_shoulder_distance)\n",
    "            if len(shoulder_distances) == 1:\n",
    "                move = 0\n",
    "            else:\n",
    "                move = float(input(\"이 지점까지 누적 이동 거리(cm)를 입력하세요 (앞 + / 뒤 -): \"))\n",
    "            movements_cm.append(move)\n",
    "            print(f\"[{len(shoulder_distances)}] 저장: {last_shoulder_distance:.2f}px, 이동: {move}cm\")\n",
    "\n",
    "# 비디오 캡처 설정\n",
    "cap = cv2.VideoCapture(0)\n",
    "cv2.namedWindow(\"Posture Detection\")\n",
    "cv2.setMouseCallback(\"Posture Detection\", mouse_callback)\n",
    "\n",
    "while cap.isOpened():\n",
    "    ret, frame = cap.read()\n",
    "    if not ret:\n",
    "        break\n",
    "\n",
    "    frame_rgb = cv2.cvtColor(frame, cv2.COLOR_BGR2RGB)\n",
    "    results = pose.process(frame_rgb)\n",
    "\n",
    "    if results.pose_landmarks:\n",
    "        landmarks = results.pose_landmarks.landmark\n",
    "        h, w, _ = frame.shape\n",
    "\n",
    "        # 어깨 거리 계산\n",
    "        l_sh = landmarks[mp_pose.PoseLandmark.LEFT_SHOULDER]\n",
    "        r_sh = landmarks[mp_pose.PoseLandmark.RIGHT_SHOULDER]\n",
    "        p1 = (int(l_sh.x * w), int(l_sh.y * h))\n",
    "        p2 = (int(r_sh.x * w), int(r_sh.y * h))\n",
    "        last_shoulder_distance = calculate_distance(p1, p2)\n",
    "\n",
    "        # 회전 각도 계산\n",
    "        shoulder_angle = estimate_shoulder_rotation_angle(landmarks)\n",
    "        face_angle = estimate_face_rotation_angle(landmarks)\n",
    "\n",
    "        # 실시간 거리 계산 (캘리브레이션 완료 후)\n",
    "        if initial_distance_cm is not None and last_shoulder_distance > 0:\n",
    "            real_distance = initial_distance_cm * shoulder_distances[0] / last_shoulder_distance\n",
    "            cv2.putText(frame, f\"Distance: {real_distance:.1f} cm\", (10, 60), cv2.FONT_HERSHEY_SIMPLEX, 0.7, (0, 200, 200), 2)\n",
    "\n",
    "        text = f\"Shoulder Angle: {shoulder_angle:.1f}°, Face Angle: {face_angle:.1f}°\"\n",
    "        cv2.putText(frame, text, (10, 30), cv2.FONT_HERSHEY_SIMPLEX, 0.7, (0, 255, 0), 2)\n",
    "\n",
    "        # 알림 조건\n",
    "        if abs(shoulder_angle) > 5 and not popup_displayed:\n",
    "            notifier.show_toast(\"어깨 회전 경고\", \"몸을 정면으로 맞춰주세요!\", duration=3, threaded=True)\n",
    "            popup_displayed = True\n",
    "        elif abs(shoulder_angle) <= 5:\n",
    "            popup_displayed = False\n",
    "\n",
    "        if abs(face_angle) > 15 and not face_popup_displayed:\n",
    "            notifier.show_toast(\"얼굴 방향 경고\", \"고개를 정면으로 맞춰주세요!\", duration=3, threaded=True)\n",
    "            face_popup_displayed = True\n",
    "        elif abs(face_angle) <= 15:\n",
    "            face_popup_displayed = False\n",
    "\n",
    "        mp_drawing.draw_landmarks(frame, results.pose_landmarks, mp_pose.POSE_CONNECTIONS)\n",
    "\n",
    "    # 캘리브레이션 버튼 그리기\n",
    "    x1, y1, x2, y2 = button_position\n",
    "    cv2.rectangle(frame, (x1, y1), (x2, y2), (0, 128, 255), -1)\n",
    "    cv2.putText(frame, \"Save Point\", (x1 + 10, y1 + 35), cv2.FONT_HERSHEY_SIMPLEX, 0.8, (0, 0, 0), 2)\n",
    "\n",
    "    cv2.imshow(\"Posture Detection\", frame)\n",
    "    if cv2.waitKey(1) & 0xFF == ord('q'):\n",
    "        break\n",
    "\n",
    "cap.release()\n",
    "cv2.destroyAllWindows()\n",
    "\n",
    "# 캘리브레이션 완료 시 거리 계산\n",
    "if len(shoulder_distances) == 3:\n",
    "    initial_distance_cm = estimate_initial_distance_3points(shoulder_distances, movements_cm)\n",
    "    print(f\"\\n📏 추정된 초기 거리 (X): {initial_distance_cm:.2f} cm\")\n",
    "else:\n",
    "    print(\"❌ 캘리브레이션 데이터 부족 (3개 필요)\")\n"
   ]
  },
  {
   "cell_type": "code",
   "execution_count": null,
   "id": "1ef5e21e-64e3-487d-98ae-7e6f3cc55e84",
   "metadata": {},
   "outputs": [],
   "source": []
  },
  {
   "cell_type": "code",
   "execution_count": null,
   "id": "72d3ff0d-ec86-4bdc-80b8-c77b8fe16c0e",
   "metadata": {},
   "outputs": [],
   "source": []
  },
  {
   "cell_type": "code",
   "execution_count": null,
   "id": "3c8c48af-7eb6-48bb-998b-f32af962ca41",
   "metadata": {},
   "outputs": [],
   "source": []
  }
 ],
 "metadata": {
  "kernelspec": {
   "display_name": "Python [conda env:base] *",
   "language": "python",
   "name": "conda-base-py"
  },
  "language_info": {
   "codemirror_mode": {
    "name": "ipython",
    "version": 3
   },
   "file_extension": ".py",
   "mimetype": "text/x-python",
   "name": "python",
   "nbconvert_exporter": "python",
   "pygments_lexer": "ipython3",
   "version": "3.12.7"
  }
 },
 "nbformat": 4,
 "nbformat_minor": 5
}
